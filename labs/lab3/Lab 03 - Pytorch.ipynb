{
 "cells": [
  {
   "cell_type": "markdown",
   "id": "f6799637",
   "metadata": {},
   "source": [
    "# Transfer learning"
   ]
  },
  {
   "cell_type": "markdown",
   "id": "a0aad319",
   "metadata": {},
   "source": [
    "In this lab we will make use of pretrained models in order to boost performance on smaller datasets. For this experiment, we will be working with an AlexNet model pretrained on the Imagenet dataset in order to get a good accuracy score on the Caltech 101 dataset.\n",
    "\n",
    "### Prerequisites\n",
    "\n",
    "1. In order to perform the experiments, please download in advance the Caltech 101 dataset from https://drive.google.com/file/d/137RyRjvTBkBiIfeYBNZBtViDHQ6_Ewsp/view\n",
    "2. In the working directory please create a folder named 'dataset' and a subfolder named 'caltech101' within it. Extract the dataset in the subfolder. The overall folder structure should look as follows: dataset/caltech101/101_ObjectCategories.\n",
    "3. Install the torchvision module using 'conda install torchvision' if you have not done so already."
   ]
  },
  {
   "cell_type": "code",
   "execution_count": 1,
   "id": "30288798",
   "metadata": {},
   "outputs": [],
   "source": [
    "from tqdm import tqdm\n",
    "import numpy as np\n",
    "import numpy.random as random\n",
    "import torch\n",
    "import torchvision\n",
    "import warnings\n",
    "import matplotlib.pyplot as plt\n",
    "import typing as t\n",
    "from torch import Tensor\n",
    "from torch.utils.data import random_split\n",
    "from torch.utils.data import DataLoader, Dataset\n",
    "from torchvision.models import AlexNet_Weights\n",
    "\n",
    "\n",
    "warnings.filterwarnings('ignore')\n",
    "device = torch.device('cuda' if torch.cuda.is_available() else 'cpu')\n",
    "seed = 42\n",
    "\n",
    "torchvision.set_image_backend('PIL')\n",
    "gen = torch.Generator()\n",
    "gen.manual_seed(seed)\n",
    "random.seed(seed)"
   ]
  },
  {
   "cell_type": "markdown",
   "id": "19253b29",
   "metadata": {},
   "source": [
    "Firstly, we will load the AlexNet model architecture using torchvision. All available models with their respective parameters can be found at: https://pytorch.org/vision/stable/models.html"
   ]
  },
  {
   "cell_type": "code",
   "execution_count": 2,
   "id": "f4f9c8a5",
   "metadata": {},
   "outputs": [],
   "source": [
    "model = torchvision.models.alexnet()"
   ]
  },
  {
   "cell_type": "markdown",
   "id": "81867c00",
   "metadata": {},
   "source": [
    "In the first run we will just load the model architecture, without the pretrained weights. We can visualize the model architecture as follows:"
   ]
  },
  {
   "cell_type": "code",
   "execution_count": 3,
   "id": "a40ab79d",
   "metadata": {},
   "outputs": [
    {
     "data": {
      "text/plain": [
       "AlexNet(\n",
       "  (features): Sequential(\n",
       "    (0): Conv2d(3, 64, kernel_size=(11, 11), stride=(4, 4), padding=(2, 2))\n",
       "    (1): ReLU(inplace=True)\n",
       "    (2): MaxPool2d(kernel_size=3, stride=2, padding=0, dilation=1, ceil_mode=False)\n",
       "    (3): Conv2d(64, 192, kernel_size=(5, 5), stride=(1, 1), padding=(2, 2))\n",
       "    (4): ReLU(inplace=True)\n",
       "    (5): MaxPool2d(kernel_size=3, stride=2, padding=0, dilation=1, ceil_mode=False)\n",
       "    (6): Conv2d(192, 384, kernel_size=(3, 3), stride=(1, 1), padding=(1, 1))\n",
       "    (7): ReLU(inplace=True)\n",
       "    (8): Conv2d(384, 256, kernel_size=(3, 3), stride=(1, 1), padding=(1, 1))\n",
       "    (9): ReLU(inplace=True)\n",
       "    (10): Conv2d(256, 256, kernel_size=(3, 3), stride=(1, 1), padding=(1, 1))\n",
       "    (11): ReLU(inplace=True)\n",
       "    (12): MaxPool2d(kernel_size=3, stride=2, padding=0, dilation=1, ceil_mode=False)\n",
       "  )\n",
       "  (avgpool): AdaptiveAvgPool2d(output_size=(6, 6))\n",
       "  (classifier): Sequential(\n",
       "    (0): Dropout(p=0.5, inplace=False)\n",
       "    (1): Linear(in_features=9216, out_features=4096, bias=True)\n",
       "    (2): ReLU(inplace=True)\n",
       "    (3): Dropout(p=0.5, inplace=False)\n",
       "    (4): Linear(in_features=4096, out_features=4096, bias=True)\n",
       "    (5): ReLU(inplace=True)\n",
       "    (6): Linear(in_features=4096, out_features=1000, bias=True)\n",
       "  )\n",
       ")"
      ]
     },
     "execution_count": 3,
     "metadata": {},
     "output_type": "execute_result"
    }
   ],
   "source": [
    "model"
   ]
  },
  {
   "cell_type": "markdown",
   "id": "21109fdf",
   "metadata": {},
   "source": [
    "Next, we will load the Caltech 101 dataset and apply the neccesary transformations on it. Afterwards, we will split the dataset into train, validation and test.\n",
    "\n",
    "In this block of code, define the dataloaders for train, validation and test and try to iterate through the data. What happens? Try to fix the problem using a lambda transform: https://pytorch.org/vision/stable/transforms.html#generic-transforms"
   ]
  },
  {
   "cell_type": "code",
   "execution_count": 4,
   "id": "3027bcc9",
   "metadata": {},
   "outputs": [
    {
     "name": "stdout",
     "output_type": "stream",
     "text": [
      "Files already downloaded and verified\n"
     ]
    }
   ],
   "source": [
    "from torchvision.transforms.v2 import Compose, ToImage, ToDtype, Resize, Normalize, Lambda, Grayscale\n",
    "from torchvision.models import AlexNet_Weights\n",
    "from torchvision.transforms.v2 import Transform\n",
    "\n",
    "# Use original transformations of AlexNet\n",
    "weights = AlexNet_Weights.DEFAULT\n",
    "preprocess: Transform = weights.transforms()\n",
    "transform = Compose([\n",
    "    ToImage(),\n",
    "    ToDtype(dtype=torch.float32, scale=True),\n",
    "    Resize((224, 224)),\n",
    "    Lambda(lambda x: x.repeat(3, 1, 1) if x.shape[0] != 3 else x),\n",
    "])\n",
    "\n",
    "\n",
    "def collate_fn(batch):\n",
    "    images = []\n",
    "    labels = []\n",
    "    for X, y in batch:\n",
    "        images.append(transform(X))\n",
    "        labels.append(y)\n",
    "    return torch.stack(images), torch.tensor(labels)\n",
    "\n",
    "\n",
    "# Preprocess the dataset using those transforms\n",
    "dataset = torchvision.datasets.Caltech101('./dataset', download=True)\n",
    "\n",
    "# Split datasets\n",
    "batch_size = 16\n",
    "n_samples = len(dataset)\n",
    "train_ds, val_ds, test_ds = random_split(dataset, [0.8, 0.1, 0.1])\n",
    "\n",
    "# Speedup settings\n",
    "settings = {\n",
    "    'batch_size': batch_size,\n",
    "    'shuffle': True,\n",
    "    'generator': gen,\n",
    "    'collate_fn': collate_fn,\n",
    "    'pin_memory': True,\n",
    "    'pin_memory_device': device.type,\n",
    "    'num_workers': 8,\n",
    "    'prefetch_factor': 2\n",
    "}\n",
    "\n",
    "# Define dataloaders for train, validation and test\n",
    "# Iterate through the dataloaders\n",
    "train_dl = DataLoader(train_ds, **settings)\n",
    "valid_dl = DataLoader(val_ds, **settings)\n",
    "test_dl = DataLoader(test_ds, **settings)"
   ]
  },
  {
   "cell_type": "markdown",
   "id": "6d5d6ec1",
   "metadata": {},
   "source": [
    "With the dataset ready, it is now time to adapt the model architecture in order to fit our needs. Define a new classifier for the AlexNet model having the same structure, changing only the number of output neurons to 101."
   ]
  },
  {
   "cell_type": "code",
   "execution_count": 5,
   "id": "d0cf0805",
   "metadata": {},
   "outputs": [
    {
     "data": {
      "text/plain": [
       "Sequential(\n",
       "  (0): Dropout(p=0.5, inplace=False)\n",
       "  (1): Linear(in_features=9216, out_features=4096, bias=True)\n",
       "  (2): ReLU(inplace=True)\n",
       "  (3): Dropout(p=0.5, inplace=False)\n",
       "  (4): Linear(in_features=4096, out_features=4096, bias=True)\n",
       "  (5): ReLU(inplace=True)\n",
       "  (6): Linear(in_features=4096, out_features=1000, bias=True)\n",
       ")"
      ]
     },
     "execution_count": 5,
     "metadata": {},
     "output_type": "execute_result"
    }
   ],
   "source": [
    "model.classifier"
   ]
  },
  {
   "cell_type": "code",
   "execution_count": 6,
   "id": "9baa894d",
   "metadata": {},
   "outputs": [],
   "source": [
    "import torch.nn as nn\n",
    "from torch.nn import Dropout, Linear, ReLU\n",
    "\n",
    "\n",
    "# Create a new classifier similar to AlexNet\n",
    "model.classifier = torch.nn.Sequential(\n",
    "    Dropout(p=0.5, inplace=False),\n",
    "    Linear(in_features=9216, out_features=4096, bias=True),\n",
    "    ReLU(inplace=True),\n",
    "    Dropout(p=0.5, inplace=False),\n",
    "    Linear(in_features=4096, out_features=4096, bias=True),\n",
    "    ReLU(inplace=True),\n",
    "    Linear(in_features=4096, out_features=101, bias=True)\n",
    ")"
   ]
  },
  {
   "cell_type": "markdown",
   "id": "ff3abefe",
   "metadata": {},
   "source": [
    "### Training the model\n",
    "\n",
    "Define an Adam optimizer with a learining rate of 1e-4 and a cross entropy loss. Afterwards, train the model for 2 epochs. Note the results"
   ]
  },
  {
   "cell_type": "code",
   "execution_count": 7,
   "id": "c1210561",
   "metadata": {},
   "outputs": [],
   "source": [
    "\n",
    "class Metrics(t.TypedDict):\n",
    "    accuracy: t.List[float]\n",
    "    loss: t.List[float]\n",
    "\n",
    "\n",
    "class TrainHistory(t.TypedDict):\n",
    "    train: Metrics\n",
    "    valid: Metrics\n",
    "\n",
    "\n",
    "def train_validate(model: nn.Module,\n",
    "                   train_dl: DataLoader,\n",
    "                   valid_dl: DataLoader,\n",
    "                   epochs: int,\n",
    "                   loss_fn: nn.Module,\n",
    "                   optim: torch.optim.Optimizer) -> TrainHistory:\n",
    "    # Track history\n",
    "    history: TrainHistory = {\n",
    "        'train': {\n",
    "            'accuracy': [],\n",
    "            'loss': [],\n",
    "        },\n",
    "        'valid': {\n",
    "            'accuracy': [],\n",
    "            'loss': [],\n",
    "        }\n",
    "    }\n",
    "\n",
    "    # Do Training & Validation & Testing\n",
    "    for epoch in range(epochs):\n",
    "        print('Epoch [%d/%d]' % (epoch + 1, epochs), end=' - ')\n",
    "\n",
    "        ### Training ###\n",
    "        model.train(True)\n",
    "\n",
    "        # Track across a single epoch\n",
    "        train_loss = []\n",
    "        train_accuracy = []\n",
    "\n",
    "        for b, (X, y) in enumerate(train_dl):\n",
    "            X, y = X.to(device), y.to(device)\n",
    "\n",
    "            # Prevent grad accumulation\n",
    "            optim.zero_grad()\n",
    "\n",
    "            # Forward pass\n",
    "            logits = model.forward(X)\n",
    "            loss: Tensor = loss_fn(logits, y)\n",
    "            y_pred: Tensor = logits.argmax(dim=1).detach()\n",
    "\n",
    "            # Backward pass\n",
    "            loss.backward()\n",
    "            optim.step()\n",
    "\n",
    "            # Track metrics\n",
    "            train_loss.append(loss.detach().cpu().item())\n",
    "            train_accuracy.extend((y_pred == y).detach().cpu().tolist())\n",
    "\n",
    "        # Aggregate training results\n",
    "        history['train']['loss'].append(torch.mean(torch.tensor(train_loss)).item())\n",
    "        history['train']['accuracy'].append((torch.sum(torch.tensor(train_accuracy)) / len(train_accuracy)).item())\n",
    "\n",
    "        ### Validation ###\n",
    "        model.train(False)\n",
    "\n",
    "        # Track across a single epoch\n",
    "        valid_loss = []\n",
    "        valid_accuracy = []\n",
    "\n",
    "        for b, (X, y) in enumerate(valid_dl):\n",
    "            X, y = X.to(device), y.to(device)\n",
    "\n",
    "            # Forward pass\n",
    "            with torch.no_grad():\n",
    "                logits = model.forward(X)\n",
    "                loss: Tensor = loss_fn(logits, y)\n",
    "                y_pred: Tensor = logits.argmax(dim=1)\n",
    "\n",
    "            # Track metrics\n",
    "            valid_loss.append(loss.detach().cpu().item())\n",
    "            valid_accuracy.extend((y_pred == y).detach().cpu().tolist())\n",
    "\n",
    "        # Aggregate training results\n",
    "        history['valid']['loss'].append(torch.mean(torch.tensor(valid_loss)).item())\n",
    "        history['valid']['accuracy'].append((torch.sum(torch.tensor(valid_accuracy)) / len(valid_accuracy)).item())\n",
    "\n",
    "        # Inform regarding current metrics\n",
    "        print('t_loss: %f, t_acc: %f, v_loss: %f, v_acc: %f'\n",
    "              % (history['train']['loss'][-1], history['train']['accuracy'][-1], history['valid']['loss'][-1], history['valid']['accuracy'][-1]))\n",
    "\n",
    "    # Output the obtained results so far\n",
    "    return history"
   ]
  },
  {
   "cell_type": "code",
   "execution_count": 8,
   "id": "3bee427f",
   "metadata": {},
   "outputs": [
    {
     "name": "stdout",
     "output_type": "stream",
     "text": [
      "Epoch [1/2] - t_loss: 3.774784, t_acc: 0.192740, v_loss: 3.229728, v_acc: 0.290323\n",
      "Epoch [2/2] - t_loss: 2.971765, t_acc: 0.346730, v_loss: 2.695157, v_acc: 0.397465\n"
     ]
    }
   ],
   "source": [
    "# Q: Train the model for 2 epochs using a cross-entropy loss and an Adam optimizer with a lr of 1e-4\n",
    "# Prepare training settings\n",
    "epochs = 2\n",
    "lr_rate = 1e-4\n",
    "loss_fn = nn.CrossEntropyLoss()\n",
    "optim = torch.optim.Adam(model.parameters(), lr=lr_rate)\n",
    "\n",
    "# Send model to GPU\n",
    "model = model.to(device)\n",
    "\n",
    "# Start training\n",
    "history = train_validate(\n",
    "    model=model,\n",
    "    train_dl=train_dl,\n",
    "    valid_dl=valid_dl,\n",
    "    epochs=epochs,\n",
    "    loss_fn=loss_fn,\n",
    "    optim=optim,\n",
    ")"
   ]
  },
  {
   "cell_type": "markdown",
   "id": "1e7d9a1e",
   "metadata": {},
   "source": [
    "## Experiments:\n",
    "\n",
    "1. Rerun training (restart kernel and run all cells) but this time, when loading the model in the first block of code, specify 'pretrained = True' in order to make use of the weights pretrained on Imagenet.\n",
    "2. Rerun the code using the pretrained model but this time use a learning rate of 1e-3. What happens?\n",
    "3. Rerun using the pretrained model and a lr of 1e-4 but this time only change the last layer in the model instead of the entire classifier.\n",
    "4. Rerun the code using the pretrained model and a lr of 1e-4. This time, freeze the pretrained layers and only update the new layers for the first epochs. Afterwards, proceed to update the entire model. You can freeze parameters by specifying 'requires_grad = False'.\n",
    "5. Rerun experiment 3 but gradually unfreeze layers instead of unfreezeing the entire model at once."
   ]
  },
  {
   "cell_type": "code",
   "execution_count": 9,
   "id": "5340bce1",
   "metadata": {},
   "outputs": [],
   "source": [
    "from torchvision.models import AlexNet_Weights\n",
    "from torchvision.transforms.v2 import Transform\n",
    "\n",
    "\n",
    "# Use original transformations of AlexNet\n",
    "weights = AlexNet_Weights.DEFAULT\n",
    "preprocess: Transform = weights.transforms()\n",
    "\n",
    "# Preprocess the dataset using those transforms\n",
    "dataset = torchvision.datasets.Caltech101(\n",
    "    './dataset',\n",
    "    transform = Compose([\n",
    "        ToImage(),\n",
    "        Lambda(lambda x: x.repeat(3, 1, 1) if x.shape[0] != 3 else x),\n",
    "        Lambda(lambda x: preprocess(x)),\n",
    "    ])\n",
    ")\n",
    "\n",
    "# Redefine subsets & dataloaders\n",
    "train_ds, val_ds, test_ds = random_split(dataset, [0.8, 0.1, 0.1], gen)\n",
    "train_dl = DataLoader(train_ds, **settings)\n",
    "valid_dl = DataLoader(val_ds, **settings)\n",
    "test_dl = DataLoader(test_ds, **settings)"
   ]
  },
  {
   "cell_type": "markdown",
   "id": "36f5bedd",
   "metadata": {},
   "source": [
    "### Experiment 1"
   ]
  },
  {
   "cell_type": "markdown",
   "id": "4b527f35",
   "metadata": {},
   "source": [
    "Rerun training (restart kernel and run all cells) but this time, when loading the model in the first block of code, specify 'pretrained = True' in order to make use of the weights "
   ]
  },
  {
   "cell_type": "code",
   "execution_count": 10,
   "id": "82b17edb",
   "metadata": {},
   "outputs": [
    {
     "name": "stdout",
     "output_type": "stream",
     "text": [
      "Epoch [1/2] - t_loss: 1.813734, t_acc: 0.591328, v_loss: 0.696989, v_acc: 0.809908\n",
      "Epoch [2/2] - t_loss: 0.513528, t_acc: 0.860415, v_loss: 0.598147, v_acc: 0.837558\n"
     ]
    }
   ],
   "source": [
    "# Use pretrained model\n",
    "model = torchvision.models.alexnet(weights=weights)\n",
    "\n",
    "# Create a new classifier similar to AlexNet\n",
    "model.classifier = torch.nn.Sequential(\n",
    "    Dropout(p=0.5, inplace=False),\n",
    "    Linear(in_features=9216, out_features=4096, bias=True),\n",
    "    ReLU(inplace=True),\n",
    "    Dropout(p=0.5, inplace=False),\n",
    "    Linear(in_features=4096, out_features=4096, bias=True),\n",
    "    ReLU(inplace=True),\n",
    "    Linear(in_features=4096, out_features=101, bias=True)\n",
    ")\n",
    "\n",
    "# Prepare training settings\n",
    "lr_rate = 1e-4\n",
    "optim = torch.optim.Adam(model.parameters(), lr=lr_rate)\n",
    "\n",
    "# Send model to GPU\n",
    "model = model.to(device)\n",
    "\n",
    "# Start training\n",
    "history = train_validate(\n",
    "    model=model,\n",
    "    train_dl=train_dl,\n",
    "    valid_dl=valid_dl,\n",
    "    epochs=epochs,\n",
    "    loss_fn=loss_fn,\n",
    "    optim=optim,\n",
    ")"
   ]
  },
  {
   "cell_type": "markdown",
   "id": "2ceaf853",
   "metadata": {},
   "source": [
    "### Experiment 2"
   ]
  },
  {
   "cell_type": "markdown",
   "id": "57689475",
   "metadata": {},
   "source": [
    "Rerun the code using the pretrained model but this time use a learning rate of 1e-3. What happens?"
   ]
  },
  {
   "cell_type": "code",
   "execution_count": 11,
   "id": "08cebc97",
   "metadata": {},
   "outputs": [
    {
     "name": "stdout",
     "output_type": "stream",
     "text": [
      "Epoch [1/2] - t_loss: 4.284863, t_acc: 0.096946, v_loss: 4.185066, v_acc: 0.109447\n",
      "Epoch [2/2] - t_loss: 4.220997, t_acc: 0.095506, v_loss: 4.172766, v_acc: 0.109447\n"
     ]
    }
   ],
   "source": [
    "# Use pretrained model\n",
    "model = torchvision.models.alexnet(weights=weights)\n",
    "\n",
    "# Create a new classifier similar to AlexNet\n",
    "model.classifier = torch.nn.Sequential(\n",
    "    Dropout(p=0.5, inplace=False),\n",
    "    Linear(in_features=9216, out_features=4096, bias=True),\n",
    "    ReLU(inplace=True),\n",
    "    Dropout(p=0.5, inplace=False),\n",
    "    Linear(in_features=4096, out_features=4096, bias=True),\n",
    "    ReLU(inplace=True),\n",
    "    Linear(in_features=4096, out_features=101, bias=True)\n",
    ")\n",
    "\n",
    "# Prepare training settings\n",
    "lr_rate = 1e-3\n",
    "optim = torch.optim.Adam(model.parameters(), lr=lr_rate)\n",
    "\n",
    "# Send model to GPU\n",
    "model = model.to(device)\n",
    "\n",
    "# Start training\n",
    "history = train_validate(\n",
    "    model=model,\n",
    "    train_dl=train_dl,\n",
    "    valid_dl=valid_dl,\n",
    "    epochs=epochs,\n",
    "    loss_fn=loss_fn,\n",
    "    optim=optim,\n",
    ")"
   ]
  },
  {
   "cell_type": "markdown",
   "id": "b9372dcf",
   "metadata": {},
   "source": [
    "### Experiment 3"
   ]
  },
  {
   "cell_type": "markdown",
   "id": "a0651afa",
   "metadata": {},
   "source": [
    "Rerun the code using the pretrained model and a lr of 1e-4. This time, freeze the pretrained layers and only update the new layers for the first epochs. Afterwards, proceed to update the entire model. You can freeze parameters by specifying 'requires_grad = False'."
   ]
  },
  {
   "cell_type": "code",
   "execution_count": 13,
   "metadata": {},
   "outputs": [
    {
     "name": "stdout",
     "output_type": "stream",
     "text": [
      "Epoch [1/2] - t_loss: 1.718334, t_acc: 0.615673, v_loss: 0.704666, v_acc: 0.812212\n",
      "Epoch [2/2] - t_loss: 0.469639, t_acc: 0.876405, v_loss: 0.580512, v_acc: 0.835253\n"
     ]
    }
   ],
   "source": [
    "# Use pretrained model\n",
    "model = torchvision.models.alexnet(weights=weights)\n",
    "model.requires_grad_(False)\n",
    "\n",
    "# Create a new classifier similar to AlexNet\n",
    "model.classifier = torch.nn.Sequential(\n",
    "    Dropout(p=0.5, inplace=False),\n",
    "    Linear(in_features=9216, out_features=4096, bias=True),\n",
    "    ReLU(inplace=True),\n",
    "    Dropout(p=0.5, inplace=False),\n",
    "    Linear(in_features=4096, out_features=4096, bias=True),\n",
    "    ReLU(inplace=True),\n",
    "    Linear(in_features=4096, out_features=101, bias=True)\n",
    ")\n",
    "\n",
    "# Prepare training settings\n",
    "lr_rate = 1e-4\n",
    "optim = torch.optim.Adam(model.classifier.parameters(), lr=lr_rate)\n",
    "\n",
    "# Send model to GPU\n",
    "model = model.to(device)\n",
    "\n",
    "# Start training\n",
    "history = train_validate(\n",
    "    model=model,\n",
    "    train_dl=train_dl,\n",
    "    valid_dl=valid_dl,\n",
    "    epochs=epochs,\n",
    "    loss_fn=loss_fn,\n",
    "    optim=optim,\n",
    ")"
   ]
  },
  {
   "cell_type": "markdown",
   "id": "50aead36",
   "metadata": {},
   "source": [
    "4. Rerun the code using the pretrained model and a lr of 1e-4. This time, freeze the pretrained layers and only update the new layers for the first epochs. Afterwards, proceed to update the entire model. You can freeze parameters by specifying 'requires_grad = False'.\n",
    "5. Rerun experiment 3 but gradually unfreeze layers instead of unfreezeing the entire model at once."
   ]
  }
 ],
 "metadata": {
  "kernelspec": {
   "display_name": "Python 3",
   "language": "python",
   "name": "python3"
  },
  "language_info": {
   "codemirror_mode": {
    "name": "ipython",
    "version": 3
   },
   "file_extension": ".py",
   "mimetype": "text/x-python",
   "name": "python",
   "nbconvert_exporter": "python",
   "pygments_lexer": "ipython3",
   "version": "3.11.0"
  }
 },
 "nbformat": 4,
 "nbformat_minor": 5
}
