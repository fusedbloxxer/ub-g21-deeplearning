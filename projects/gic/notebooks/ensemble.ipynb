{
 "cells": [
  {
   "cell_type": "code",
   "execution_count": 1,
   "metadata": {},
   "outputs": [],
   "source": [
    "%load_ext autoreload\n",
    "%autoreload 2"
   ]
  },
  {
   "cell_type": "code",
   "execution_count": 2,
   "metadata": {},
   "outputs": [],
   "source": [
    "import sys\n",
    "import os as so\n",
    "import pathlib as pl\n",
    "import matplotlib.pyplot as pt\n",
    "from math import ceil\n",
    "from itertools import islice\n",
    "from torch.nn.functional import one_hot\n",
    "from torchvision.utils import make_grid as grid"
   ]
  },
  {
   "cell_type": "code",
   "execution_count": 3,
   "metadata": {},
   "outputs": [
    {
     "name": "stderr",
     "output_type": "stream",
     "text": [
      "Seed set to 10052\n"
     ]
    }
   ],
   "source": [
    "# Add local package in path of notebook\n",
    "so.chdir('..')\n",
    "package = str(pl.Path(so.getcwd(), '..'))\n",
    "[lambda: sys.path.append(package), lambda: None][package not in sys.path]()\n",
    "\n",
    "# Local package imports\n",
    "from gic import *\n",
    "from gic.learning.wrappers import ClassifierModule\n",
    "from gic.learning.focalnet.wrappers import FocalNetClassifier, FocalNetClassifierArgs\n",
    "from gic.learning.ensemble import BaggingEnsemble, FocalNetEnsemble\n",
    "from gic.data.dataset import GICDataset\n",
    "from gic.data.dataloader import GICDataModule"
   ]
  },
  {
   "cell_type": "code",
   "execution_count": 4,
   "metadata": {},
   "outputs": [],
   "source": [
    "data = GICDataModule(DATA_PATH, 32, 'joint')\n",
    "ensemble = FocalNetEnsemble(n_models=5, args={\n",
    "    'lr': 4e-4,\n",
    "    'groups': 8,\n",
    "    'norm_layer': 'batch',\n",
    "    'drop_type': 'spatial',\n",
    "    'num_classes': GICDataset.num_classes,\n",
    "    'augment': True,\n",
    "    'augment_n': 1,\n",
    "    'augment_m': 11,\n",
    "    'repeat': 3,\n",
    "    'dropout': 0.15,\n",
    "    'layers': 2,\n",
    "    'chan': 128,\n",
    "    'weight_decay': 8e-3,\n",
    "    'dense': 224,\n",
    "    'reduce': \"max\",\n",
    "    'dropout_dense': 0.30,\n",
    "    'activ_fn': 'LeakyReLU',\n",
    "    'conv_order': \"2 1 0\"\n",
    "})"
   ]
  },
  {
   "cell_type": "code",
   "execution_count": null,
   "metadata": {},
   "outputs": [],
   "source": [
    "ensemble.fit(244, data, False)"
   ]
  },
  {
   "cell_type": "code",
   "execution_count": null,
   "metadata": {},
   "outputs": [],
   "source": [
    "output = ensemble.validate(244, data)"
   ]
  },
  {
   "cell_type": "code",
   "execution_count": 5,
   "metadata": {},
   "outputs": [],
   "source": [
    "# Create submission file\n",
    "ensemble.load_ensemble(247)\n",
    "preds = ensemble.predict(data, 'test').sum(dim=1).argmax(dim=-1)\n",
    "test = GICDataset(DATA_PATH, 'test')\n",
    "data = test.data_\n",
    "data['Class'] = preds\n",
    "data.to_csv(SUBMISSION_PATH, index=False)"
   ]
  }
 ],
 "metadata": {
  "kernelspec": {
   "display_name": "gic-BfYgXNhZ-py3.11",
   "language": "python",
   "name": "python3"
  },
  "language_info": {
   "codemirror_mode": {
    "name": "ipython",
    "version": 3
   },
   "file_extension": ".py",
   "mimetype": "text/x-python",
   "name": "python",
   "nbconvert_exporter": "python",
   "pygments_lexer": "ipython3",
   "version": "3.11.3"
  }
 },
 "nbformat": 4,
 "nbformat_minor": 2
}
