{
 "cells": [
  {
   "cell_type": "code",
   "execution_count": 1,
   "metadata": {},
   "outputs": [
    {
     "name": "stdout",
     "output_type": "stream",
     "text": [
      "The autoreload extension is already loaded. To reload it, use:\n",
      "  %reload_ext autoreload\n"
     ]
    }
   ],
   "source": [
    "%reload_ext autoreload\n",
    "%load_ext autoreload\n",
    "%autoreload 2"
   ]
  },
  {
   "cell_type": "markdown",
   "metadata": {},
   "source": [
    "Imports"
   ]
  },
  {
   "cell_type": "code",
   "execution_count": 2,
   "metadata": {},
   "outputs": [],
   "source": [
    "# External libraries\n",
    "import os as so\n",
    "import sys as s\n",
    "import pathlib as pl\n",
    "import torch\n",
    "import torch.nn as nn\n",
    "from torch import Tensor\n",
    "from torch.utils.data import random_split\n",
    "from torch.utils.data import DataLoader, ConcatDataset\n",
    "import torcheval\n",
    "from torcheval.metrics import MulticlassF1Score, Mean\n",
    "import optuna as opt\n",
    "import torchvision as tn\n",
    "import sklearn as sn\n",
    "from sklearn.metrics import f1_score\n",
    "import pandas as ps\n",
    "import numpy as ny\n",
    "import typing as t\n",
    "import pathlib as pl\n",
    "import matplotlib.pyplot as pt\n",
    "import random as rng\n",
    "from tqdm import tqdm\n",
    "import tqdm as tm\n",
    "from pprint import pprint\n",
    "from git import Repo"
   ]
  },
  {
   "cell_type": "code",
   "execution_count": 3,
   "metadata": {},
   "outputs": [
    {
     "name": "stderr",
     "output_type": "stream",
     "text": [
      "\u001b[34m\u001b[1mwandb\u001b[0m: Currently logged in as: \u001b[33minvokariman\u001b[0m (\u001b[33mcastelvaar\u001b[0m). Use \u001b[1m`wandb login --relogin`\u001b[0m to force relogin\n"
     ]
    },
    {
     "data": {
      "text/html": [
       "Tracking run with wandb version 0.16.0"
      ],
      "text/plain": [
       "<IPython.core.display.HTML object>"
      ]
     },
     "metadata": {},
     "output_type": "display_data"
    },
    {
     "data": {
      "text/html": [
       "Run data is saved locally in <code>/home/invokariman/Projects/git/ub-g21-deeplearning/projects/gic/notebooks/wandb/run-20231130_015735-is7muwg4</code>"
      ],
      "text/plain": [
       "<IPython.core.display.HTML object>"
      ]
     },
     "metadata": {},
     "output_type": "display_data"
    },
    {
     "data": {
      "text/html": [
       "Syncing run <strong><a href='https://wandb.ai/castelvaar/Generated%20Image%20Classification/runs/is7muwg4' target=\"_blank\">hearty-totem-77</a></strong> to <a href='https://wandb.ai/castelvaar/Generated%20Image%20Classification' target=\"_blank\">Weights & Biases</a> (<a href='https://wandb.me/run' target=\"_blank\">docs</a>)<br/>"
      ],
      "text/plain": [
       "<IPython.core.display.HTML object>"
      ]
     },
     "metadata": {},
     "output_type": "display_data"
    },
    {
     "data": {
      "text/html": [
       " View project at <a href='https://wandb.ai/castelvaar/Generated%20Image%20Classification' target=\"_blank\">https://wandb.ai/castelvaar/Generated%20Image%20Classification</a>"
      ],
      "text/plain": [
       "<IPython.core.display.HTML object>"
      ]
     },
     "metadata": {},
     "output_type": "display_data"
    },
    {
     "data": {
      "text/html": [
       " View run at <a href='https://wandb.ai/castelvaar/Generated%20Image%20Classification/runs/is7muwg4' target=\"_blank\">https://wandb.ai/castelvaar/Generated%20Image%20Classification/runs/is7muwg4</a>"
      ],
      "text/plain": [
       "<IPython.core.display.HTML object>"
      ]
     },
     "metadata": {},
     "output_type": "display_data"
    },
    {
     "name": "stderr",
     "output_type": "stream",
     "text": [
      "/home/invokariman/Projects/git/ub-g21-deeplearning/projects/gic/notebooks/../gic/__init__.py:309: ExperimentalWarning: WeightsAndBiasesCallback is experimental (supported from v2.9.0). The interface can change in the future.\n",
      "  wn_callback = WeightsAndBiasesCallback(\n"
     ]
    }
   ],
   "source": [
    "# Add local package to path\n",
    "if (p := pl.Path(so.getcwd(), '..').absolute().as_posix()) not in s.path:\n",
    "    s.path.append(p)\n",
    "\n",
    "# Local imports\n",
    "from gic import *\n",
    "from gic.tune import ResCNNHPSpace, HyperParameterSampler, Trainer\n",
    "from gic.data import load_data, GenImageDataset\n",
    "from gic.model import ResCNN"
   ]
  },
  {
   "cell_type": "markdown",
   "metadata": {},
   "source": [
    "HyperParameter Optimization"
   ]
  },
  {
   "cell_type": "code",
   "execution_count": 4,
   "metadata": {},
   "outputs": [],
   "source": [
    "# Search hyperparameters in a subspace\n",
    "sampler = HyperParameterSampler[ResCNNHPSpace](lambda trial: {\n",
    "    'batch_size': trial.suggest_int('batch_size', 16, 128, step=16),\n",
    "    'optimizer': trial.suggest_categorical('optimizer', ['Adam']),\n",
    "    'lr': trial.suggest_float('lr', 1e-4, 1e-2),\n",
    "    'epochs': trial.suggest_int('epochs', 10, 50),\n",
    "    'weight_decay': trial.suggest_float('weight_decay', 1e-6, 1e-3),\n",
    "    'pool': trial.suggest_categorical('poo', ['max', 'avg']),\n",
    "    'dropout1d': trial.suggest_float('dense_dropout', 0, 0.6),\n",
    "    'dropout2d': trial.suggest_float('conv_dropout', 0, 0.6),\n",
    "    'conv_chan': trial.suggest_int('conv_chan', 16, 32, step=8),\n",
    "    'dens_chan': trial.suggest_int('dens_chan', 128, 1024, 128),\n",
    "    'activ_fn': trial.suggest_categorical('activ', ['ReLU', 'SiLU', 'GELU', 'LeakyReLU'])\n",
    "})"
   ]
  },
  {
   "cell_type": "code",
   "execution_count": null,
   "metadata": {},
   "outputs": [],
   "source": [
    "# Create the training procedure\n",
    "trainer = Trainer(\n",
    "    seed=SEED,\n",
    "    hps=sampler,\n",
    "    dataset_path=DATA_PATH,\n",
    "    num_classes=CONST_NUM_CLASS,\n",
    "    prefetch_factor=prefetch_factor,\n",
    "    num_workers=num_workers,\n",
    "    device=DEVICE\n",
    ")\n",
    "\n",
    "# Search hyperparams\n",
    "cutoff = opt.pruners.HyperbandPruner()\n",
    "searcher = opt.samplers.TPESampler(n_startup_trials=10)\n",
    "search = opt.create_study(direction='maximize', storage=db_uri, sampler=searcher, pruner=cutoff)\n",
    "search.optimize(trainer, n_trials=50, callbacks=[wn_callback])\n",
    "wn.finish()"
   ]
  },
  {
   "cell_type": "markdown",
   "metadata": {},
   "source": [
    "Training & Submission"
   ]
  },
  {
   "cell_type": "code",
   "execution_count": 10,
   "metadata": {},
   "outputs": [
    {
     "data": {
      "text/plain": [
       "{'batch_size': 96,\n",
       " 'optimizer': 'Adam',\n",
       " 'lr': 0.0001710922865343308,\n",
       " 'epochs': 26,\n",
       " 'weight_decay': 6.615022804136745e-05,\n",
       " 'poo': 'max',\n",
       " 'dense_dropout': 0.1509602432425139,\n",
       " 'conv_dropout': 0.16877901541398593,\n",
       " 'conv_chan': 32,\n",
       " 'dens_chan': 640,\n",
       " 'activ': 'SiLU'}"
      ]
     },
     "execution_count": 10,
     "metadata": {},
     "output_type": "execute_result"
    }
   ],
   "source": [
    "search.best_params"
   ]
  },
  {
   "cell_type": "code",
   "execution_count": 5,
   "metadata": {},
   "outputs": [
    {
     "name": "stderr",
     "output_type": "stream",
     "text": [
      "train_batch: 100%|██████████| 937/937 [00:03<00:00, 278.39it/s]\n",
      "train_batch: 100%|██████████| 937/937 [00:03<00:00, 288.25it/s]\n",
      "train_batch: 100%|██████████| 937/937 [00:03<00:00, 286.80it/s]\n",
      "train_batch: 100%|██████████| 937/937 [00:03<00:00, 300.42it/s]\n",
      "train_batch: 100%|██████████| 937/937 [00:02<00:00, 317.97it/s]\n",
      "train_batch: 100%|██████████| 937/937 [00:03<00:00, 299.52it/s]\n",
      "train_batch: 100%|██████████| 937/937 [00:03<00:00, 287.09it/s]\n",
      "train_batch: 100%|██████████| 937/937 [00:03<00:00, 284.25it/s]\n",
      "train_batch: 100%|██████████| 937/937 [00:03<00:00, 292.59it/s]\n",
      "train_batch: 100%|██████████| 937/937 [00:03<00:00, 297.73it/s]\n",
      "train_batch: 100%|██████████| 937/937 [00:03<00:00, 306.23it/s]\n",
      "train_batch: 100%|██████████| 937/937 [00:03<00:00, 297.73it/s]\n",
      "train_batch: 100%|██████████| 937/937 [00:02<00:00, 314.17it/s]\n",
      "train_batch: 100%|██████████| 937/937 [00:03<00:00, 289.00it/s]\n",
      "train_batch: 100%|██████████| 937/937 [00:03<00:00, 308.60it/s]\n",
      "train_batch: 100%|██████████| 937/937 [00:03<00:00, 297.64it/s]\n",
      "train_batch: 100%|██████████| 937/937 [00:03<00:00, 293.08it/s]\n",
      "train_batch: 100%|██████████| 937/937 [00:03<00:00, 309.03it/s]\n",
      "train_batch: 100%|██████████| 937/937 [00:03<00:00, 292.23it/s]\n",
      "train_batch: 100%|██████████| 937/937 [00:03<00:00, 303.49it/s]\n",
      "train_batch: 100%|██████████| 937/937 [00:03<00:00, 293.80it/s]\n",
      "train_batch: 100%|██████████| 937/937 [00:03<00:00, 307.60it/s]\n",
      "train_batch: 100%|██████████| 937/937 [00:03<00:00, 294.54it/s]\n",
      "train_batch: 100%|██████████| 937/937 [00:03<00:00, 300.00it/s]\n",
      "train_batch: 100%|██████████| 937/937 [00:03<00:00, 300.50it/s]\n",
      "train_batch: 100%|██████████| 937/937 [00:03<00:00, 303.27it/s]\n",
      "train_batch: 100%|██████████| 937/937 [00:03<00:00, 286.79it/s]\n",
      "train_batch: 100%|██████████| 937/937 [00:03<00:00, 290.15it/s]\n",
      "train_batch: 100%|██████████| 937/937 [00:03<00:00, 285.71it/s]\n",
      "train_batch: 100%|██████████| 937/937 [00:03<00:00, 299.30it/s]\n",
      "epoch: 100%|██████████| 30/30 [01:34<00:00,  3.16s/it]\n"
     ]
    },
    {
     "data": {
      "application/vnd.jupyter.widget-view+json": {
       "model_id": "9c1be4b284be4702a181a9b34ed3a343",
       "version_major": 2,
       "version_minor": 0
      },
      "text/plain": [
       "VBox(children=(Label(value='0.004 MB of 0.007 MB uploaded\\r'), FloatProgress(value=0.6588136306268405, max=1.0…"
      ]
     },
     "metadata": {},
     "output_type": "display_data"
    },
    {
     "data": {
      "text/html": [
       "<style>\n",
       "    table.wandb td:nth-child(1) { padding: 0 10px; text-align: left ; width: auto;} td:nth-child(2) {text-align: left ; width: 100%}\n",
       "    .wandb-row { display: flex; flex-direction: row; flex-wrap: wrap; justify-content: flex-start; width: 100% }\n",
       "    .wandb-col { display: flex; flex-direction: column; flex-basis: 100%; flex: 1; padding: 10px; }\n",
       "    </style>\n",
       "<div class=\"wandb-row\"><div class=\"wandb-col\"><h3>Run history:</h3><br/><table class=\"wandb\"><tr><td>epoch</td><td>▁▁▁▁▂▂▂▂▂▂▃▃▃▃▃▄▄▄▄▄▅▅▅▅▅▅▆▆▆▆▆▇▇▇▇▇████</td></tr><tr><td>train_f1_score</td><td>▁▂▃▃▄▄▅▅▅▅▆▆▆▆▆▇▇▇▇▇▇▇▇▇██████</td></tr><tr><td>train_loss</td><td>█▆▅▅▄▄▄▃▃▃▃▃▂▂▂▂▂▂▂▂▂▂▂▁▁▁▁▁▁▁</td></tr></table><br/></div><div class=\"wandb-col\"><h3>Run summary:</h3><br/><table class=\"wandb\"><tr><td>epoch</td><td>29</td></tr><tr><td>train_f1_score</td><td>0.61665</td></tr><tr><td>train_loss</td><td>1.23673</td></tr></table><br/></div></div>"
      ],
      "text/plain": [
       "<IPython.core.display.HTML object>"
      ]
     },
     "metadata": {},
     "output_type": "display_data"
    },
    {
     "data": {
      "text/html": [
       " View run <strong style=\"color:#cdcd00\">hearty-totem-77</strong> at: <a href='https://wandb.ai/castelvaar/Generated%20Image%20Classification/runs/is7muwg4' target=\"_blank\">https://wandb.ai/castelvaar/Generated%20Image%20Classification/runs/is7muwg4</a><br/> View job at <a href='https://wandb.ai/castelvaar/Generated%20Image%20Classification/jobs/QXJ0aWZhY3RDb2xsZWN0aW9uOjExOTc2NjA3NQ==/version_details/v3' target=\"_blank\">https://wandb.ai/castelvaar/Generated%20Image%20Classification/jobs/QXJ0aWZhY3RDb2xsZWN0aW9uOjExOTc2NjA3NQ==/version_details/v3</a><br/>Synced 5 W&B file(s), 0 media file(s), 0 artifact file(s) and 0 other file(s)"
      ],
      "text/plain": [
       "<IPython.core.display.HTML object>"
      ]
     },
     "metadata": {},
     "output_type": "display_data"
    },
    {
     "data": {
      "text/html": [
       "Find logs at: <code>./wandb/run-20231130_015735-is7muwg4/logs</code>"
      ],
      "text/plain": [
       "<IPython.core.display.HTML object>"
      ]
     },
     "metadata": {},
     "output_type": "display_data"
    }
   ],
   "source": [
    "params = {\n",
    "    'batch_size': 16,\n",
    "    'optimizer': 'Adam',\n",
    "    'lr': 0.0004710922865343308,\n",
    "    'epochs': 30,\n",
    "    'weight_decay': 6.615022804136745e-05,\n",
    "    'pool': 'max',\n",
    "    'dense_dropout': 0.49602432425139,\n",
    "    'conv_dropout': 0.477901541398593,\n",
    "    'conv_chan': 32,\n",
    "    'dens_chan': 640,\n",
    "    'activ': 'SiLU'\n",
    "}\n",
    "\n",
    "# Create the training procedure\n",
    "trainer = Trainer(\n",
    "    seed=SEED,\n",
    "    hps=sampler,\n",
    "    dataset_path=DATA_PATH,\n",
    "    num_classes=CONST_NUM_CLASS,\n",
    "    prefetch_factor=prefetch_factor,\n",
    "    num_workers=num_workers,\n",
    "    train_valid_split=(0.999, 0.001),\n",
    "    device=DEVICE\n",
    ")\n",
    "\n",
    "# Train on `almost` the whole labeled dataset\n",
    "trainer(None, t.cast(t.Any, params))\n",
    "wn.finish()"
   ]
  },
  {
   "cell_type": "code",
   "execution_count": 6,
   "metadata": {},
   "outputs": [],
   "source": [
    "# Get model\n",
    "model = trainer.model_.eval().requires_grad_(False)\n",
    "\n",
    "# Get test data\n",
    "_, _, test_data = t.cast(t.Any, load_data(DATA_PATH, True, True))\n",
    "test_loader = DataLoader(test_data, batch_size, shuffle=False, prefetch_factor=prefetch_factor, num_workers=num_workers)\n",
    "\n",
    "# Infer\n",
    "preds = []\n",
    "for X in test_loader:\n",
    "    X = X.to(DEVICE)\n",
    "    pred = torch.argmax(model(X), dim=-1)\n",
    "    preds.extend(pred.cpu().tolist())"
   ]
  },
  {
   "cell_type": "code",
   "execution_count": 7,
   "metadata": {},
   "outputs": [
    {
     "data": {
      "text/plain": [
       "[67, 91, 40, 13, 69, 45, 64, 54, 26, 98]"
      ]
     },
     "execution_count": 7,
     "metadata": {},
     "output_type": "execute_result"
    }
   ],
   "source": [
    "preds[:10]"
   ]
  },
  {
   "cell_type": "code",
   "execution_count": 8,
   "metadata": {},
   "outputs": [],
   "source": [
    "dataf = {'Image': [], 'Class': []}\n",
    "dataf['Class'] = preds\n",
    "test_data._GenImageDataset__data['Class'] = preds\n",
    "test_data._GenImageDataset__data.to_csv(SUBMISSION_PATH, index=False)"
   ]
  }
 ],
 "metadata": {
  "kernelspec": {
   "display_name": "gic-BfYgXNhZ-py3.11",
   "language": "python",
   "name": "python3"
  },
  "language_info": {
   "codemirror_mode": {
    "name": "ipython",
    "version": 3
   },
   "file_extension": ".py",
   "mimetype": "text/x-python",
   "name": "python",
   "nbconvert_exporter": "python",
   "pygments_lexer": "ipython3",
   "version": "3.11.0"
  }
 },
 "nbformat": 4,
 "nbformat_minor": 2
}
