{
 "cells": [
  {
   "cell_type": "code",
   "execution_count": null,
   "metadata": {},
   "outputs": [],
   "source": [
    "%reload_ext autoreload\n",
    "%load_ext autoreload\n",
    "%autoreload 2"
   ]
  },
  {
   "cell_type": "markdown",
   "metadata": {},
   "source": [
    "Imports"
   ]
  },
  {
   "cell_type": "code",
   "execution_count": null,
   "metadata": {},
   "outputs": [],
   "source": [
    "# External libraries\n",
    "import os as so\n",
    "import sys as s\n",
    "import pathlib as pl\n",
    "import torch\n",
    "import torch.nn as nn\n",
    "from torch import Tensor\n",
    "from torch.utils.data import random_split\n",
    "from torch.utils.data import DataLoader, ConcatDataset\n",
    "import torcheval\n",
    "from torcheval.metrics import MulticlassF1Score, Mean\n",
    "import optuna as opt\n",
    "import torchvision as tn\n",
    "import sklearn as sn\n",
    "from sklearn.metrics import f1_score\n",
    "import pandas as ps\n",
    "import numpy as ny\n",
    "import typing as t\n",
    "import pathlib as pl\n",
    "import matplotlib.pyplot as pt\n",
    "import random as rng\n",
    "from tqdm import tqdm\n",
    "import tqdm as tm\n",
    "from pprint import pprint\n",
    "from git import Repo"
   ]
  },
  {
   "cell_type": "code",
   "execution_count": null,
   "metadata": {},
   "outputs": [],
   "source": [
    "# Add local package to path\n",
    "if (p := pl.Path(so.getcwd(), '..').absolute().as_posix()) not in s.path:\n",
    "    s.path.append(p)\n",
    "\n",
    "# Local imports\n",
    "from gic import *\n",
    "from gic.data import GenImageDataset\n",
    "from gic.tune import ClassificationTrainer\n",
    "from gic.models.resnet import ResCNN, resnet_sampler\n",
    "from gic.models.densenet import DenseCNN, densenet_sampler\n",
    "from gic.models.convnext import ConvNextNet, convnext_sampler"
   ]
  },
  {
   "cell_type": "markdown",
   "metadata": {},
   "source": [
    "HyperParameter Optimization"
   ]
  },
  {
   "cell_type": "code",
   "execution_count": null,
   "metadata": {},
   "outputs": [],
   "source": [
    "# Find the best model using a trainer\n",
    "trainer = ClassificationTrainer(\n",
    "    seed=SEED,\n",
    "    device=DEVICE,\n",
    "    augment=False,\n",
    "    model=DenseCNN,\n",
    "    profiling=profiling,\n",
    "    mix_float=mix_float,\n",
    "    hps=densenet_sampler,\n",
    "    dataset_path=DATA_PATH,\n",
    "    num_workers=num_workers,\n",
    "    prefetch_factor=prefetch_factor,\n",
    ")"
   ]
  },
  {
   "cell_type": "code",
   "execution_count": null,
   "metadata": {},
   "outputs": [],
   "source": [
    "# Search hyperparams\n",
    "searcher = opt.samplers.TPESampler(n_startup_trials=5)\n",
    "pruner = opt.pruners.NopPruner()\n",
    "search = opt.create_study(direction='maximize', storage=db_uri, sampler=searcher, pruner=pruner)\n",
    "search.optimize(trainer, n_trials=50, callbacks=[wn_callback])\n",
    "wn.finish()"
   ]
  },
  {
   "cell_type": "markdown",
   "metadata": {},
   "source": [
    "Final Training"
   ]
  },
  {
   "cell_type": "code",
   "execution_count": null,
   "metadata": {},
   "outputs": [],
   "source": [
    "# Find the best model using a trainer\n",
    "trainer = ClassificationTrainer(\n",
    "    seed=SEED,\n",
    "    device=DEVICE,\n",
    "    augment=True,\n",
    "    model=DenseCNN,\n",
    "    profiling=profiling,\n",
    "    mix_float=mix_float,\n",
    "    hps=densenet_sampler,\n",
    "    dataset_path=DATA_PATH,\n",
    "    num_workers=num_workers,\n",
    "    prefetch_factor=prefetch_factor,\n",
    ")"
   ]
  },
  {
   "cell_type": "code",
   "execution_count": null,
   "metadata": {},
   "outputs": [],
   "source": [
    "params = {\n",
    "    'lr': 1e-3,\n",
    "    'epochs': 150,\n",
    "    'batch_size': 32,\n",
    "    'optimizer': 'Adam',\n",
    "    'weight_decay': 0.0000423,\n",
    "    'dense': 128,\n",
    "    'factor_c': 1,\n",
    "    'features': 16,\n",
    "    'factor_t': 1,\n",
    "    'activ_fn': 'SiLU',\n",
    "    'pool': 'max',\n",
    "    'repeat': 3,\n",
    "    'inner': 3,\n",
    "    'f_drop': 0.2435,\n",
    "    'c_drop': 0.1199,\n",
    "}\n",
    "\n",
    "\n",
    "# Train on `almost` the whole labeled dataset\n",
    "trainer.train(params)\n",
    "wn.finish()"
   ]
  },
  {
   "cell_type": "markdown",
   "metadata": {},
   "source": [
    "Perform evaluation"
   ]
  },
  {
   "cell_type": "code",
   "execution_count": null,
   "metadata": {},
   "outputs": [],
   "source": [
    "preds: t.List[int] = trainer.eval(params).tolist()\n",
    "preds[:10]"
   ]
  },
  {
   "cell_type": "code",
   "execution_count": null,
   "metadata": {},
   "outputs": [],
   "source": [
    "len(preds)"
   ]
  },
  {
   "cell_type": "markdown",
   "metadata": {},
   "source": [
    "Save Submission"
   ]
  },
  {
   "cell_type": "code",
   "execution_count": null,
   "metadata": {},
   "outputs": [],
   "source": [
    "test_data = GenImageDataset(DATA_PATH, 'test', True)\n",
    "dataf = {'Image': [], 'Class': []}\n",
    "dataf['Class'] = preds\n",
    "test_data._GenImageDataset__data['Class'] = preds\n",
    "test_data._GenImageDataset__data.to_csv(SUBMISSION_PATH, index=False)"
   ]
  }
 ],
 "metadata": {
  "kernelspec": {
   "display_name": "gic-BfYgXNhZ-py3.11",
   "language": "python",
   "name": "python3"
  },
  "language_info": {
   "codemirror_mode": {
    "name": "ipython",
    "version": 3
   },
   "file_extension": ".py",
   "mimetype": "text/x-python",
   "name": "python",
   "nbconvert_exporter": "python",
   "pygments_lexer": "ipython3",
   "version": "3.11.0"
  }
 },
 "nbformat": 4,
 "nbformat_minor": 2
}
