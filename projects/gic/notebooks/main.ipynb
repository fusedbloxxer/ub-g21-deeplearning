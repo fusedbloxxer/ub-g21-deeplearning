{
 "cells": [
  {
   "cell_type": "code",
   "execution_count": 1,
   "metadata": {},
   "outputs": [
    {
     "name": "stdout",
     "output_type": "stream",
     "text": [
      "The autoreload extension is already loaded. To reload it, use:\n",
      "  %reload_ext autoreload\n"
     ]
    }
   ],
   "source": [
    "%reload_ext autoreload\n",
    "%load_ext autoreload\n",
    "%autoreload 2"
   ]
  },
  {
   "cell_type": "markdown",
   "metadata": {},
   "source": [
    "Imports"
   ]
  },
  {
   "cell_type": "code",
   "execution_count": 2,
   "metadata": {},
   "outputs": [],
   "source": [
    "# External libraries\n",
    "import os as so\n",
    "import sys as s\n",
    "import pathlib as pl\n",
    "import torch\n",
    "import torch.nn as nn\n",
    "from torch import Tensor\n",
    "from torch.utils.data import random_split\n",
    "from torch.utils.data import DataLoader, ConcatDataset\n",
    "import torcheval\n",
    "from torcheval.metrics import MulticlassF1Score, Mean\n",
    "import optuna as opt\n",
    "import torchvision as tn\n",
    "import sklearn as sn\n",
    "from sklearn.metrics import f1_score\n",
    "import pandas as ps\n",
    "import numpy as ny\n",
    "import typing as t\n",
    "import pathlib as pl\n",
    "import matplotlib.pyplot as pt\n",
    "import random as rng\n",
    "from tqdm import tqdm\n",
    "import tqdm as tm\n",
    "from pprint import pprint\n",
    "from git import Repo"
   ]
  },
  {
   "cell_type": "code",
   "execution_count": 3,
   "metadata": {},
   "outputs": [
    {
     "name": "stderr",
     "output_type": "stream",
     "text": [
      "\u001b[34m\u001b[1mwandb\u001b[0m: Currently logged in as: \u001b[33minvokariman\u001b[0m (\u001b[33mcastelvaar\u001b[0m). Use \u001b[1m`wandb login --relogin`\u001b[0m to force relogin\n",
      "/home/invokariman/Projects/git/ub-g21-deeplearning/projects/gic/notebooks/../gic/__init__.py:57: ExperimentalWarning: WeightsAndBiasesCallback is experimental (supported from v2.9.0). The interface can change in the future.\n",
      "  wn_callback = WeightsAndBiasesCallback(\n",
      "/home/invokariman/Projects/git/ub-g21-deeplearning/projects/gic/notebooks/../gic/tune.py:114: ExperimentalWarning: track_in_wandb is experimental (supported from v3.0.0). The interface can change in the future.\n",
      "  @forward_self(wn_callback.track_in_wandb())\n"
     ]
    }
   ],
   "source": [
    "# Add local package to path\n",
    "if (p := pl.Path(so.getcwd(), '..').absolute().as_posix()) not in s.path:\n",
    "    s.path.append(p)\n",
    "\n",
    "# Local imports\n",
    "from gic import *\n",
    "from gic.data import GenImageDataset\n",
    "from gic.tune import ClassificationTrainer\n",
    "from gic.models.resnet import ResCNN, resnet_sampler\n",
    "from gic.models.densenet import DenseCNN, densenet_sampler"
   ]
  },
  {
   "cell_type": "markdown",
   "metadata": {},
   "source": [
    "HyperParameter Optimization"
   ]
  },
  {
   "cell_type": "code",
   "execution_count": 4,
   "metadata": {},
   "outputs": [],
   "source": [
    "# Find the best model using a trainer\n",
    "trainer = ClassificationTrainer(\n",
    "    seed=SEED,\n",
    "    device=DEVICE,\n",
    "    model=DenseCNN,\n",
    "    profiling=profiling,\n",
    "    mix_float=mix_float,\n",
    "    hps=densenet_sampler,\n",
    "    dataset_path=DATA_PATH,\n",
    "    num_workers=num_workers,\n",
    "    prefetch_factor=prefetch_factor,\n",
    ")"
   ]
  },
  {
   "cell_type": "code",
   "execution_count": 5,
   "metadata": {},
   "outputs": [
    {
     "name": "stderr",
     "output_type": "stream",
     "text": [
      "[I 2023-12-01 23:24:52,628] A new study created in RDB with name: no-name-e33df37f-feab-45ba-add0-4f1f76b04a3f\n"
     ]
    },
    {
     "data": {
      "text/html": [
       "Tracking run with wandb version 0.16.0"
      ],
      "text/plain": [
       "<IPython.core.display.HTML object>"
      ]
     },
     "metadata": {},
     "output_type": "display_data"
    },
    {
     "data": {
      "text/html": [
       "Run data is saved locally in <code>/home/invokariman/Projects/git/ub-g21-deeplearning/projects/gic/notebooks/wandb/run-20231201_232452-a7lbzslx</code>"
      ],
      "text/plain": [
       "<IPython.core.display.HTML object>"
      ]
     },
     "metadata": {},
     "output_type": "display_data"
    },
    {
     "data": {
      "text/html": [
       "Syncing run <strong><a href='https://wandb.ai/castelvaar/Generated%20Image%20Classification/runs/a7lbzslx' target=\"_blank\">effortless-energy-268</a></strong> to <a href='https://wandb.ai/castelvaar/Generated%20Image%20Classification' target=\"_blank\">Weights & Biases</a> (<a href='https://wandb.me/run' target=\"_blank\">docs</a>)<br/>"
      ],
      "text/plain": [
       "<IPython.core.display.HTML object>"
      ]
     },
     "metadata": {},
     "output_type": "display_data"
    },
    {
     "data": {
      "text/html": [
       " View project at <a href='https://wandb.ai/castelvaar/Generated%20Image%20Classification' target=\"_blank\">https://wandb.ai/castelvaar/Generated%20Image%20Classification</a>"
      ],
      "text/plain": [
       "<IPython.core.display.HTML object>"
      ]
     },
     "metadata": {},
     "output_type": "display_data"
    },
    {
     "data": {
      "text/html": [
       " View run at <a href='https://wandb.ai/castelvaar/Generated%20Image%20Classification/runs/a7lbzslx' target=\"_blank\">https://wandb.ai/castelvaar/Generated%20Image%20Classification/runs/a7lbzslx</a>"
      ],
      "text/plain": [
       "<IPython.core.display.HTML object>"
      ]
     },
     "metadata": {},
     "output_type": "display_data"
    },
    {
     "name": "stdout",
     "output_type": "stream",
     "text": [
      "DenseCNN(\n",
      "  (input_conv): Conv2d(3, 48, kernel_size=(1, 1), stride=(1, 1))\n",
      "  (dense_layers): Sequential(\n",
      "    (0): DenseBlock(\n",
      "      (layers): ModuleList(\n",
      "        (0): DenseCompConvBlock(\n",
      "          (layers): Sequential(\n",
      "            (comp_block): DenseConvBlock(\n",
      "              (bn_layer): BatchNorm2d(48, eps=1e-05, momentum=0.1, affine=True, track_running_stats=True)\n",
      "              (activ_fn): GELU(approximate='none')\n",
      "              (conv_layer): Conv2d(48, 36, kernel_size=(1, 1), stride=(1, 1), bias=False)\n",
      "              (drop): Dropout2d(p=0.249587398118041, inplace=False)\n",
      "            )\n",
      "            (conv_block): DenseConvBlock(\n",
      "              (bn_layer): BatchNorm2d(36, eps=1e-05, momentum=0.1, affine=True, track_running_stats=True)\n",
      "              (activ_fn): GELU(approximate='none')\n",
      "              (conv_layer): Conv2d(36, 8, kernel_size=(3, 3), stride=(1, 1), padding=(1, 1), bias=False)\n",
      "              (drop): Dropout2d(p=0.249587398118041, inplace=False)\n",
      "            )\n",
      "          )\n",
      "        )\n",
      "        (1): DenseCompConvBlock(\n",
      "          (layers): Sequential(\n",
      "            (comp_block): DenseConvBlock(\n",
      "              (bn_layer): BatchNorm2d(56, eps=1e-05, momentum=0.1, affine=True, track_running_stats=True)\n",
      "              (activ_fn): GELU(approximate='none')\n",
      "              (conv_layer): Conv2d(56, 42, kernel_size=(1, 1), stride=(1, 1), bias=False)\n",
      "              (drop): Dropout2d(p=0.249587398118041, inplace=False)\n",
      "            )\n",
      "            (conv_block): DenseConvBlock(\n",
      "              (bn_layer): BatchNorm2d(42, eps=1e-05, momentum=0.1, affine=True, track_running_stats=True)\n",
      "              (activ_fn): GELU(approximate='none')\n",
      "              (conv_layer): Conv2d(42, 8, kernel_size=(3, 3), stride=(1, 1), padding=(1, 1), bias=False)\n",
      "              (drop): Dropout2d(p=0.249587398118041, inplace=False)\n",
      "            )\n",
      "          )\n",
      "        )\n",
      "      )\n",
      "    )\n",
      "    (1): DenseDownBlock(\n",
      "      (down_conv): DenseConvBlock(\n",
      "        (bn_layer): BatchNorm2d(64, eps=1e-05, momentum=0.1, affine=True, track_running_stats=True)\n",
      "        (activ_fn): GELU(approximate='none')\n",
      "        (conv_layer): Conv2d(64, 64, kernel_size=(1, 1), stride=(1, 1), bias=False)\n",
      "        (drop): Dropout2d(p=0.249587398118041, inplace=False)\n",
      "      )\n",
      "      (down_size): MaxPool2d(kernel_size=3, stride=2, padding=1, dilation=1, ceil_mode=False)\n",
      "    )\n",
      "    (2): DenseBlock(\n",
      "      (layers): ModuleList(\n",
      "        (0): DenseCompConvBlock(\n",
      "          (layers): Sequential(\n",
      "            (comp_block): DenseConvBlock(\n",
      "              (bn_layer): BatchNorm2d(64, eps=1e-05, momentum=0.1, affine=True, track_running_stats=True)\n",
      "              (activ_fn): GELU(approximate='none')\n",
      "              (conv_layer): Conv2d(64, 48, kernel_size=(1, 1), stride=(1, 1), bias=False)\n",
      "              (drop): Dropout2d(p=0.249587398118041, inplace=False)\n",
      "            )\n",
      "            (conv_block): DenseConvBlock(\n",
      "              (bn_layer): BatchNorm2d(48, eps=1e-05, momentum=0.1, affine=True, track_running_stats=True)\n",
      "              (activ_fn): GELU(approximate='none')\n",
      "              (conv_layer): Conv2d(48, 8, kernel_size=(3, 3), stride=(1, 1), padding=(1, 1), bias=False)\n",
      "              (drop): Dropout2d(p=0.249587398118041, inplace=False)\n",
      "            )\n",
      "          )\n",
      "        )\n",
      "        (1): DenseCompConvBlock(\n",
      "          (layers): Sequential(\n",
      "            (comp_block): DenseConvBlock(\n",
      "              (bn_layer): BatchNorm2d(72, eps=1e-05, momentum=0.1, affine=True, track_running_stats=True)\n",
      "              (activ_fn): GELU(approximate='none')\n",
      "              (conv_layer): Conv2d(72, 54, kernel_size=(1, 1), stride=(1, 1), bias=False)\n",
      "              (drop): Dropout2d(p=0.249587398118041, inplace=False)\n",
      "            )\n",
      "            (conv_block): DenseConvBlock(\n",
      "              (bn_layer): BatchNorm2d(54, eps=1e-05, momentum=0.1, affine=True, track_running_stats=True)\n",
      "              (activ_fn): GELU(approximate='none')\n",
      "              (conv_layer): Conv2d(54, 8, kernel_size=(3, 3), stride=(1, 1), padding=(1, 1), bias=False)\n",
      "              (drop): Dropout2d(p=0.249587398118041, inplace=False)\n",
      "            )\n",
      "          )\n",
      "        )\n",
      "      )\n",
      "    )\n",
      "    (3): DenseDownBlock(\n",
      "      (down_conv): DenseConvBlock(\n",
      "        (bn_layer): BatchNorm2d(80, eps=1e-05, momentum=0.1, affine=True, track_running_stats=True)\n",
      "        (activ_fn): GELU(approximate='none')\n",
      "        (conv_layer): Conv2d(80, 80, kernel_size=(1, 1), stride=(1, 1), bias=False)\n",
      "        (drop): Dropout2d(p=0.249587398118041, inplace=False)\n",
      "      )\n",
      "      (down_size): MaxPool2d(kernel_size=3, stride=2, padding=1, dilation=1, ceil_mode=False)\n",
      "    )\n",
      "  )\n",
      "  (classifier): Sequential(\n",
      "    (0): AdaptiveAvgPool2d(output_size=1)\n",
      "    (1): Flatten(start_dim=1, end_dim=-1)\n",
      "    (2): Linear(in_features=80, out_features=128, bias=True)\n",
      "    (3): BatchNorm1d(128, eps=1e-05, momentum=0.1, affine=True, track_running_stats=True)\n",
      "    (4): GELU(approximate='none')\n",
      "    (5): Dropout1d(p=0.3937354687985236, inplace=False)\n",
      "    (6): Linear(in_features=128, out_features=128, bias=True)\n",
      "    (7): BatchNorm1d(128, eps=1e-05, momentum=0.1, affine=True, track_running_stats=True)\n",
      "    (8): GELU(approximate='none')\n",
      "    (9): Dropout1d(p=0.3937354687985236, inplace=False)\n",
      "    (10): Linear(in_features=128, out_features=100, bias=True)\n",
      "  )\n",
      ")\n"
     ]
    },
    {
     "name": "stderr",
     "output_type": "stream",
     "text": [
      "epochs:   0%|          | 0/100 [00:00<?, ?it/s]"
     ]
    }
   ],
   "source": [
    "# Search hyperparams\n",
    "searcher = opt.samplers.TPESampler(n_startup_trials=5)\n",
    "search = opt.create_study(direction='maximize', storage=db_uri, sampler=searcher)\n",
    "search.optimize(trainer, n_trials=30, callbacks=[wn_callback])\n",
    "wn.finish()"
   ]
  },
  {
   "cell_type": "code",
   "execution_count": null,
   "metadata": {},
   "outputs": [],
   "source": [
    "search.best_params"
   ]
  },
  {
   "cell_type": "markdown",
   "metadata": {},
   "source": [
    "Final Training"
   ]
  },
  {
   "cell_type": "code",
   "execution_count": null,
   "metadata": {},
   "outputs": [],
   "source": [
    "# Use best model parameters\n",
    "params = {\n",
    "    'batch_size': 16,\n",
    "    'optimizer': 'AdamW',\n",
    "    'lr': 3e-4,\n",
    "    'epochs': 50,\n",
    "    'weight_decay': 5e-5,\n",
    "    'pool': 'avg',\n",
    "    'dense_dropout': 0.3,\n",
    "    'conv_dropout': 0.4,\n",
    "    'conv_chan': 32,\n",
    "    'dens_chan': 512,\n",
    "    'activ': 'SiLU'\n",
    "}\n",
    "\n",
    "# Train on `almost` the whole labeled dataset\n",
    "trainer.train(params)\n",
    "wn.finish()"
   ]
  },
  {
   "cell_type": "markdown",
   "metadata": {},
   "source": [
    "Perform evaluation"
   ]
  },
  {
   "cell_type": "code",
   "execution_count": null,
   "metadata": {},
   "outputs": [],
   "source": [
    "preds: t.List[int] = trainer.eval(params).tolist()\n",
    "preds[:10]"
   ]
  },
  {
   "cell_type": "code",
   "execution_count": null,
   "metadata": {},
   "outputs": [],
   "source": [
    "len(preds)"
   ]
  },
  {
   "cell_type": "markdown",
   "metadata": {},
   "source": [
    "Save Submission"
   ]
  },
  {
   "cell_type": "code",
   "execution_count": null,
   "metadata": {},
   "outputs": [],
   "source": [
    "test_data = GenImageDataset(DATA_PATH, 'test', True)\n",
    "dataf = {'Image': [], 'Class': []}\n",
    "dataf['Class'] = preds\n",
    "test_data._GenImageDataset__data['Class'] = preds\n",
    "test_data._GenImageDataset__data.to_csv(SUBMISSION_PATH, index=False)"
   ]
  }
 ],
 "metadata": {
  "kernelspec": {
   "display_name": "gic-BfYgXNhZ-py3.11",
   "language": "python",
   "name": "python3"
  },
  "language_info": {
   "codemirror_mode": {
    "name": "ipython",
    "version": 3
   },
   "file_extension": ".py",
   "mimetype": "text/x-python",
   "name": "python",
   "nbconvert_exporter": "python",
   "pygments_lexer": "ipython3",
   "version": "3.11.0"
  }
 },
 "nbformat": 4,
 "nbformat_minor": 2
}
